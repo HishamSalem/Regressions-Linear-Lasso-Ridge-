{
 "cells": [
  {
   "cell_type": "markdown",
   "metadata": {},
   "source": [
    "# Regressions"
   ]
  },
  {
   "cell_type": "markdown",
   "metadata": {},
   "source": [
    "## Linear Regression"
   ]
  },
  {
   "cell_type": "code",
   "execution_count": 8,
   "metadata": {},
   "outputs": [
    {
     "name": "stdout",
     "output_type": "stream",
     "text": [
      "                                 OLS Regression Results                                \n",
      "=======================================================================================\n",
      "Dep. Variable:                      y   R-squared (uncentered):                   0.805\n",
      "Model:                            OLS   Adj. R-squared (uncentered):              0.801\n",
      "Method:                 Least Squares   F-statistic:                              202.8\n",
      "Date:                Thu, 30 Dec 2021   Prob (F-statistic):                    1.47e-35\n",
      "Time:                        17:58:34   Log-Likelihood:                         -311.54\n",
      "No. Observations:                 100   AIC:                                      627.1\n",
      "Df Residuals:                      98   BIC:                                      632.3\n",
      "Df Model:                           2                                                  \n",
      "Covariance Type:            nonrobust                                                  \n",
      "==============================================================================\n",
      "                 coef    std err          t      P>|t|      [0.025      0.975]\n",
      "------------------------------------------------------------------------------\n",
      "x1             0.4380      0.351      1.247      0.215      -0.259       1.135\n",
      "x2             0.5580      0.351      1.589      0.115      -0.139       1.255\n",
      "==============================================================================\n",
      "Omnibus:                        0.350   Durbin-Watson:                   1.806\n",
      "Prob(Omnibus):                  0.839   Jarque-Bera (JB):                0.517\n",
      "Skew:                           0.088   Prob(JB):                        0.772\n",
      "Kurtosis:                       2.695   Cond. No.                         14.2\n",
      "==============================================================================\n",
      "\n",
      "Warnings:\n",
      "[1] Standard Errors assume that the covariance matrix of the errors is correctly specified.\n"
     ]
    },
    {
     "data": {
      "text/plain": [
       "(0.9500000313213873, 2.4447854856684986e-51)"
      ]
     },
     "execution_count": 8,
     "metadata": {},
     "output_type": "execute_result"
    }
   ],
   "source": [
    "import statsmodels.api\n",
    "from sklearn.linear_model import LinearRegression\n",
    "import pandas\n",
    "\n",
    "path1='D:/Downloads/Sheet1.csv'\n",
    "assignment_d = pandas.read_csv(path1)\n",
    "\n",
    "X=assignment_d.iloc[:,1:3]\n",
    "y=assignment_d[\"y\"]\n",
    "regression=statsmodels.api.OLS(y,X)\n",
    "\n",
    "model=regression.fit()\n",
    "\n",
    "print(model.summary())\n",
    "#correlation\n",
    "import scipy\n",
    "\n",
    "#text1\n",
    "from scipy.stats.stats import pearsonr\n",
    "scipy.stats.pearsonr(assignment_d[\"x1\"],assignment_d[\"x2\"])\n"
   ]
  },
  {
   "cell_type": "code",
   "execution_count": 7,
   "metadata": {},
   "outputs": [
    {
     "name": "stdout",
     "output_type": "stream",
     "text": [
      "7.175332647076361\n"
     ]
    }
   ],
   "source": [
    "from sklearn.model_selection import train_test_split\n",
    "X=assignment_d.iloc[:,1:3]\n",
    "y=assignment_d[[\"y\"]]\n",
    "\n",
    "\n",
    "X_train,X_test,y_train,y_test=train_test_split(X,y,test_size=0.3,random_state=6)\n",
    "lm=LinearRegression()\n",
    "model=lm.fit(X_train,y_train)\n",
    "y_test_pred=model.predict(X_test)\n",
    "from sklearn.metrics import mean_squared_error\n",
    "MSE=mean_squared_error(y_test,y_test_pred)\n",
    "print(MSE)"
   ]
  },
  {
   "cell_type": "markdown",
   "metadata": {},
   "source": [
    "## Lasso & Ridge Regressions"
   ]
  },
  {
   "cell_type": "markdown",
   "metadata": {},
   "source": [
    "### Part 1"
   ]
  },
  {
   "cell_type": "code",
   "execution_count": 12,
   "metadata": {},
   "outputs": [],
   "source": [
    "\n",
    "\n",
    "import pandas as pd\n",
    "from sklearn.linear_model import Lasso,LinearRegression,Ridge\n",
    "#PATH\n",
    "Path='C:/Users/hisha/Desktop/College/GradSchool/FALL/INSY662  DataMining/Ass/Ass2/ToyotaCorolla.csv'\n",
    "df=pd.read_csv(Path)\n",
    "\n",
    "#X and Y variables declaration response and etc..\n",
    "X=df.iloc[:,3:]\n",
    "Y=df[\"Price\"]\n",
    "\n",
    "#train\n",
    "from sklearn.model_selection import train_test_split\n",
    "X_train,X_test,Y_train,Y_test=train_test_split(X,Y,random_state=0,test_size=0.3)"
   ]
  },
  {
   "cell_type": "code",
   "execution_count": 14,
   "metadata": {},
   "outputs": [
    {
     "name": "stdout",
     "output_type": "stream",
     "text": [
      "3417320.907473822\n"
     ]
    }
   ],
   "source": [
    "#Linear Regression\n",
    "\n",
    "Lm=LinearRegression()\n",
    "Model_Linear=Lm.fit(X_train,Y_train)\n",
    "\n",
    "Y_test_pred_1=Model_Linear.predict(X_test)\n",
    "\n",
    "from sklearn.metrics import mean_squared_error\n",
    "\n",
    "print(mean_squared_error(Y_test,Y_test_pred_1))\n"
   ]
  },
  {
   "cell_type": "code",
   "execution_count": 18,
   "metadata": {},
   "outputs": [
    {
     "name": "stdout",
     "output_type": "stream",
     "text": [
      "3419836.654545658\n"
     ]
    }
   ],
   "source": [
    "#Ridge\n",
    "\n",
    "Lm1=Ridge()\n",
    "Model_ridge=Lm1.fit(X_train,Y_train)\n",
    "\n",
    "Y_test_pred_2=Model_ridge.predict(X_test)\n",
    "\n",
    "print(mean_squared_error(Y_test,Y_test_pred_2))\n",
    "\n"
   ]
  },
  {
   "cell_type": "code",
   "execution_count": 16,
   "metadata": {},
   "outputs": [
    {
     "name": "stdout",
     "output_type": "stream",
     "text": [
      "3427499.4639669056\n"
     ]
    }
   ],
   "source": [
    "#Lasso\n",
    "\n",
    "Lm2=Lasso()\n",
    "Model_Lasso=Lm2.fit(X_train,Y_train)\n",
    "\n",
    "Y_test_pred_3=Model_Lasso.predict(X_test)\n",
    "\n",
    "print(mean_squared_error(Y_test,Y_test_pred_3))"
   ]
  },
  {
   "cell_type": "markdown",
   "metadata": {},
   "source": [
    "### Part 2"
   ]
  },
  {
   "cell_type": "code",
   "execution_count": 20,
   "metadata": {},
   "outputs": [],
   "source": [
    "import pandas as pd\n",
    "from sklearn.linear_model import Lasso,LinearRegression,Ridge\n",
    "from sklearn.metrics import mean_squared_error\n",
    "\n",
    "#DATA IMPORT PATH\n",
    "Path='C:/Users/hisha/Desktop/College/GradSchool/FALL/INSY662  DataMining/Ass/Ass2/ToyotaCorolla.csv'\n",
    "df=pd.read_csv(Path)\n",
    "\n",
    "#DECLARE X and Y variables\n",
    "X=df.iloc[:,3:]\n",
    "y=df[\"Price\"]\n",
    "\n",
    "from sklearn.model_selection import train_test_split\n",
    "X_train,X_test,y_train,y_test=train_test_split(X,y,random_state=0,test_size=0.3)\n",
    "\n",
    "range1=[10,100,1000,10000]"
   ]
  },
  {
   "cell_type": "code",
   "execution_count": 21,
   "metadata": {},
   "outputs": [
    {
     "name": "stdout",
     "output_type": "stream",
     "text": [
      "for x = 10 , MSE= 3436536.1796132005\n",
      "for x = 100 , MSE= 3462558.855452571\n",
      "for x = 1000 , MSE= 3402230.5551078524\n",
      "for x = 10000 , MSE= 3341387.9619959933\n",
      "[-1.12267759e+02 -2.04558961e-02  2.27966874e+01 -1.22667153e-01\n",
      " -1.53579331e+00 -7.38114502e+00  0.00000000e+00  2.64551528e+00\n",
      "  2.61192354e+01]\n"
     ]
    }
   ],
   "source": [
    "for n in range1:\n",
    "    Lm1=Ridge(alpha=n)\n",
    "    Model_ridge=Lm1.fit(X_train,y_train)\n",
    "    y_test_pred_2=Model_ridge.predict(X_test)\n",
    "    print(\"for x = \"+str(n)+\" , MSE= \"+str(mean_squared_error(y_test,y_test_pred_2)))\n",
    "    if n==10000:\n",
    "        print(Model_ridge.coef_)"
   ]
  },
  {
   "cell_type": "code",
   "execution_count": 22,
   "metadata": {},
   "outputs": [
    {
     "name": "stdout",
     "output_type": "stream",
     "text": [
      "for i =10, MSE= 3448010.924743449\n",
      "for i =100, MSE= 3297821.046770868\n",
      "for i =1000, MSE= 3008080.0378697277\n",
      "for i =10000, MSE= 2984524.277149852\n",
      "[-7.10922925e+01 -3.66138058e-02  0.00000000e+00 -0.00000000e+00\n",
      "  0.00000000e+00  0.00000000e+00  0.00000000e+00  0.00000000e+00\n",
      "  2.62929287e+01]\n"
     ]
    }
   ],
   "source": [
    "for i in range1:\n",
    "    Lm2=Lasso(alpha=i)\n",
    "    Model_Lasso=Lm2.fit(X_train,y_train)\n",
    "\n",
    "    y_test_pred_3=Model_Lasso.predict(X_test)\n",
    "\n",
    "    print(\"for i =\"+str(i)+\", MSE= \"+str(mean_squared_error(y_test,y_test_pred_3)))\n",
    "    if i==10000:\n",
    "        print(Model_Lasso.coef_)\n"
   ]
  },
  {
   "cell_type": "code",
   "execution_count": null,
   "metadata": {},
   "outputs": [],
   "source": []
  }
 ],
 "metadata": {
  "kernelspec": {
   "display_name": "Python 3",
   "language": "python",
   "name": "python3"
  },
  "language_info": {
   "codemirror_mode": {
    "name": "ipython",
    "version": 3
   },
   "file_extension": ".py",
   "mimetype": "text/x-python",
   "name": "python",
   "nbconvert_exporter": "python",
   "pygments_lexer": "ipython3",
   "version": "3.7.4"
  }
 },
 "nbformat": 4,
 "nbformat_minor": 2
}
